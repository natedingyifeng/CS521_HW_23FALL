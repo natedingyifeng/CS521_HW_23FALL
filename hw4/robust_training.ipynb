{
  "cells": [
    {
      "cell_type": "markdown",
      "metadata": {
        "id": "Whsg1XX_OZs6"
      },
      "source": [
        "# Boilerplate\n",
        "\n",
        "Packae installation, loading, and dataloaders."
      ]
    },
    {
      "cell_type": "code",
      "execution_count": null,
      "metadata": {
        "colab": {
          "base_uri": "https://localhost:8080/"
        },
        "id": "R1domTvnONqD",
        "outputId": "02ae804a-6b26-493b-cc1f-75171e929ad6"
      },
      "outputs": [],
      "source": [
        "import torch\n",
        "import torch.nn as nn\n",
        "import torch.optim as optim\n",
        "import torch.nn.functional as F\n",
        "import numpy as np\n",
        "import time\n",
        "import torchvision\n",
        "import copy\n",
        "\n",
        "from torchvision import datasets, transforms\n",
        "from tensorboardX import SummaryWriter\n",
        "from auto_LiRPA import BoundedModule, BoundedTensor, PerturbationLpNorm\n",
        "\n",
        "use_cuda = False\n",
        "device = torch.device(\"cuda\" if use_cuda else \"cpu\")\n",
        "batch_size = 64\n",
        "\n",
        "np.random.seed(42)\n",
        "torch.manual_seed(42)\n",
        "\n",
        "\n",
        "## Dataloaders\n",
        "train_dataset = datasets.MNIST('mnist_data/', train=True, download=True, transform=transforms.Compose(\n",
        "    [transforms.ToTensor()]\n",
        "))\n",
        "test_dataset = datasets.MNIST('mnist_data/', train=False, download=True, transform=transforms.Compose(\n",
        "    [transforms.ToTensor()]\n",
        "))\n",
        "\n",
        "train_loader = torch.utils.data.DataLoader(train_dataset, batch_size=batch_size, shuffle=True)\n",
        "test_loader = torch.utils.data.DataLoader(test_dataset, batch_size=batch_size, shuffle=False)\n",
        "\n",
        "## Simple NN. You can change this if you want.\n",
        "class Net(nn.Module):\n",
        "    def __init__(self):\n",
        "        super(Net, self).__init__()\n",
        "        # self.flatten = nn.Flatten()\n",
        "        self.fc = nn.Linear(28*28, 50)\n",
        "        self.fc2 = nn.Linear(50, 50)\n",
        "        self.fc3 = nn.Linear(50, 50)\n",
        "        self.fc4 = nn.Linear(50, 10)\n",
        "        self.nn = nn.Sequential(\n",
        "          nn.Flatten(),\n",
        "          self.fc,\n",
        "          nn.ReLU(),\n",
        "          self.fc2,\n",
        "          nn.ReLU(),\n",
        "          self.fc3,\n",
        "          nn.ReLU(),\n",
        "          self.fc4,\n",
        "        )\n",
        "\n",
        "    def forward(self, x):\n",
        "        x = self.nn.forward(x)\n",
        "        return x\n",
        "\n",
        "class Normalize(nn.Module):\n",
        "    def forward(self, x):\n",
        "        return (x - 0.1307)/0.3081\n",
        "\n",
        "# Add the data normalization as a first \"layer\" to the network\n",
        "# this allows us to search for adverserial examples to the real image, rather than\n",
        "# to the normalized image\n",
        "model = nn.Sequential(Normalize(), Net())\n",
        "model = model.to(device)\n",
        "model.train()"
      ]
    },
    {
      "cell_type": "markdown",
      "metadata": {
        "id": "0Mja_AB4RykO"
      },
      "source": [
        "# Implement Training"
      ]
    },
    {
      "cell_type": "code",
      "execution_count": null,
      "metadata": {
        "colab": {
          "base_uri": "https://localhost:8080/"
        },
        "id": "V-sw8yKYONqQ",
        "outputId": "04ab7879-44f9-4750-a4f0-ef067dfcff37"
      },
      "outputs": [],
      "source": [
        "k = 40\n",
        "eps = 0.1\n",
        "eps_step = 0.01\n",
        "num_epochs = 5\n",
        "num_class = 10\n",
        "\n",
        "def train_model(model, num_epochs, enable_defense=True, epsilon=0.01):\n",
        "    learning_rate = 0.0001\n",
        "\n",
        "    opt = optim.Adam(params=model.parameters(), lr=learning_rate)\n",
        "\n",
        "    ce_loss = torch.nn.CrossEntropyLoss()\n",
        "\n",
        "    tot_steps = 0\n",
        "\n",
        "    for epoch in range(1,num_epochs+1):\n",
        "        t1 = time.time()\n",
        "        for batch_idx, (x_batch, y_batch) in enumerate(train_loader):\n",
        "            x_batch, y_batch = x_batch.to(device), y_batch.to(device)\n",
        "            tot_steps += 1\n",
        "            opt.zero_grad()\n",
        "\n",
        "            if enable_defense:\n",
        "              out = model(x_batch)\n",
        "              original_batch_loss = ce_loss(out, y_batch)\n",
        "              ptb = PerturbationLpNorm(norm=np.inf, eps=epsilon)\n",
        "              x_batch = BoundedTensor(x_batch, ptb)\n",
        "              c = torch.eye(num_class).type_as(x_batch)[y_batch].unsqueeze(1) - torch.eye(num_class).type_as(x_batch).unsqueeze(0)\n",
        "              I = (~(y_batch.data.unsqueeze(1) == torch.arange(num_class).type_as(y_batch.data).unsqueeze(0)))\n",
        "              c = (c[I].view(x_batch.size(0), num_class - 1, num_class))\n",
        "              lb, ub = model.compute_bounds(x=(x_batch,), IBP=True, method=None, C=c)\n",
        "              lb_padded = torch.cat((torch.zeros(size=(lb.size(0),1), dtype=lb.dtype), lb), dim=1)\n",
        "              fake_labels = torch.zeros(size=(lb.size(0),), dtype=torch.int64)\n",
        "              batch_loss = ce_loss(-lb_padded, fake_labels)\n",
        "            #   batch_loss = 0.5*original_batch_loss + 0.5*ce_loss(-lb_padded, fake_labels)\n",
        "            else:\n",
        "              out = model(x_batch)\n",
        "              batch_loss = ce_loss(out, y_batch)\n",
        "            batch_loss.backward()\n",
        "            opt.step()\n",
        "\n",
        "        tot_test, tot_acc = 0.0, 0.0\n",
        "        for batch_idx, (x_batch, y_batch) in enumerate(test_loader):\n",
        "            x_batch, y_batch = x_batch.to(device), y_batch.to(device)\n",
        "            out = model(x_batch)\n",
        "            pred = torch.max(out, dim=1)[1]\n",
        "            acc = pred.eq(y_batch).sum().item()\n",
        "            tot_acc += acc\n",
        "            tot_test += x_batch.size()[0]\n",
        "        t2 = time.time()\n",
        "\n",
        "        print('Epoch %d: Accuracy %.5lf [%.2lf seconds]' % (epoch, tot_acc/tot_test, t2-t1))\n",
        "\n",
        "print(\"Training original model:\")\n",
        "train_model(model, num_epochs, enable_defense=False)\n",
        "torch.save(model, \"normal_model\")"
      ]
    },
    {
      "cell_type": "markdown",
      "metadata": {
        "id": "ZPMdfEhtR3zm"
      },
      "source": [
        "# Interval Analysis"
      ]
    },
    {
      "cell_type": "code",
      "execution_count": null,
      "metadata": {
        "colab": {
          "base_uri": "https://localhost:8080/",
          "height": 455
        },
        "id": "ufD-ccTFR8R2",
        "outputId": "f326abae-98bd-4e25-ecc3-6c144f21bc0f"
      },
      "outputs": [],
      "source": [
        "image = test_dataset.data[:1].view(1,1,28,28)\n",
        "image = image.to(torch.float32) / 255.0\n",
        "model = BoundedModule(model, torch.empty_like(torch.tensor(image)))\n",
        "model.eval()\n",
        "# Interval Analysis of the network\n",
        "for epsilon in [0.01, 0.02, 0.03, 0.04, 0.05, 0.06, 0.07, 0.08, 0.09, 0.1]:\n",
        "  tot_test, tot_acc = 0.0, 0.0\n",
        "  t1 = time.time()\n",
        "  for batch_idx, (x_batch, y_batch) in enumerate(test_loader):\n",
        "      x_batch, y_batch = x_batch.to(device), y_batch.to(device)\n",
        "      ptb = PerturbationLpNorm(norm=np.inf, eps=epsilon)\n",
        "      x_batch = BoundedTensor(x_batch, ptb)\n",
        "      c = torch.eye(num_class).type_as(x_batch)[y_batch].unsqueeze(1) - torch.eye(num_class).type_as(x_batch).unsqueeze(0)\n",
        "      I = (~(y_batch.data.unsqueeze(1) == torch.arange(num_class).type_as(y_batch.data).unsqueeze(0)))\n",
        "      c = (c[I].view(x_batch.size(0), num_class - 1, num_class))\n",
        "      lb, ub = model.compute_bounds(x=(x_batch,), IBP=True, method=None, C=c)\n",
        "      acc = (lb.min(1)[0]>=0).sum().item()\n",
        "      tot_acc += acc\n",
        "      tot_test += x_batch.size()[0]\n",
        "  t2 = time.time()\n",
        "  print('Interval Analysis on original model: Robustness %.5lf [%.2lf seconds]' % (tot_acc/tot_test, t2-t1))"
      ]
    },
    {
      "cell_type": "markdown",
      "metadata": {
        "id": "_p9LWxj3vDzl"
      },
      "source": [
        "# provably robust training"
      ]
    },
    {
      "cell_type": "code",
      "execution_count": null,
      "metadata": {
        "id": "5Wa0cfOgvDES"
      },
      "outputs": [],
      "source": [
        "for epsilon in [0.01, 0.02, 0.03, 0.04, 0.05, 0.06, 0.07, 0.08, 0.09, 0.1]:\n",
        "    model = torch.load(\"normal_model\")\n",
        "    image = test_dataset.data[:1].view(1,1,28,28)\n",
        "    image = image.to(torch.float32) / 255.0\n",
        "    model = BoundedModule(model, torch.empty_like(torch.tensor(image)))\n",
        "    model = model.to(device)\n",
        "    model.train()\n",
        "    print(\"Training robust model wit epsilon = \" + str(epsilon) + \":\")\n",
        "    train_model(model, num_epochs, enable_defense=True, epsilon=epsilon)\n",
        "    model.eval()\n",
        "    # Interval Analysis of the network\n",
        "    tot_test, tot_acc = 0.0, 0.0\n",
        "    t1 = time.time()\n",
        "    for batch_idx, (x_batch, y_batch) in enumerate(test_loader):\n",
        "        x_batch, y_batch = x_batch.to(device), y_batch.to(device)\n",
        "        ptb = PerturbationLpNorm(norm=np.inf, eps=epsilon)\n",
        "        x_batch = BoundedTensor(x_batch, ptb)\n",
        "        c = torch.eye(num_class).type_as(x_batch)[y_batch].unsqueeze(1) - torch.eye(num_class).type_as(x_batch).unsqueeze(0)\n",
        "        I = (~(y_batch.data.unsqueeze(1) == torch.arange(num_class).type_as(y_batch.data).unsqueeze(0)))\n",
        "        c = (c[I].view(x_batch.size(0), num_class - 1, num_class))\n",
        "        lb, ub = model.compute_bounds(x=(x_batch,), IBP=True, method=None, C=c)\n",
        "        acc = (lb.min(1)[0]>=0).sum().item()\n",
        "        tot_acc += acc\n",
        "        tot_test += x_batch.size()[0]\n",
        "    t2 = time.time()\n",
        "    print('Interval Analysis on Robust model: Robustness %.5lf [%.2lf seconds]' % (tot_acc/tot_test, t2-t1))"
      ]
    }
  ],
  "metadata": {
    "colab": {
      "provenance": []
    },
    "kernelspec": {
      "display_name": "Python3 (ml)",
      "language": "python",
      "name": "ml"
    },
    "language_info": {
      "codemirror_mode": {
        "name": "ipython",
        "version": 3
      },
      "file_extension": ".py",
      "mimetype": "text/x-python",
      "name": "python",
      "nbconvert_exporter": "python",
      "pygments_lexer": "ipython3",
      "version": "3.7.0"
    }
  },
  "nbformat": 4,
  "nbformat_minor": 0
}
